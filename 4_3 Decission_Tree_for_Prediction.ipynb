{
  "nbformat": 4,
  "nbformat_minor": 0,
  "metadata": {
    "colab": {
      "name": "Decission Tree.ipynb",
      "provenance": []
    },
    "kernelspec": {
      "name": "python3",
      "display_name": "Python 3"
    }
  },
  "cells": [
    {
      "cell_type": "code",
      "metadata": {
        "id": "H1pblxDLE1X6",
        "colab_type": "code",
        "colab": {}
      },
      "source": [
        "import pandas as pd\n",
        "import numpy as np\n",
        "from sklearn.metrics import confusion_matrix \n",
        "#from sklearn.cross_validation import train_test_split \n",
        "from sklearn.model_selection import train_test_split\n",
        "from sklearn.tree import DecisionTreeClassifier \n",
        "from sklearn.metrics import accuracy_score \n",
        "from sklearn.metrics import classification_report "
      ],
      "execution_count": null,
      "outputs": []
    },
    {
      "cell_type": "code",
      "metadata": {
        "id": "0PV05Gm5FCEP",
        "colab_type": "code",
        "colab": {}
      },
      "source": [
        "df=pd.read_csv(r\"newtest.csv\")\n",
        "df=df.dropna()\n",
        "data=df[['Ref.L.Cell.Thrp.Kbps.DL(kbit/s)','Ref.Avg.CQI(number)','Ref.DL.PRB.utilization(%)','L.UL.Interference.Avg(dBm)','Ref.L.RA.TA.UE.Index_All_Approx','Ish.L.User.Avg(number)']]\n",
        "\n",
        "data=data.dropna()\n",
        "\n",
        "# replace . and / with _ \n",
        "data.rename(columns={\"Ref.L.Cell.Thrp.Kbps.DL(kbit/s)\":\"Cell.Thrp.Kbps.DL\"},inplace=True)\n",
        "data.columns=data.columns.astype(str).str.replace(\"[.]\", \"_\")\n",
        "data.columns=data.columns.astype(str).str.replace(\"[(]\", \"_\")\n",
        "data.columns=data.columns.astype(str).str.replace(\"[)]\", \"_\")\n",
        "data.columns=data.columns.astype(str).str.replace(\"[%]\", \"X\")\n",
        "print(data.columns)\n",
        "\n",
        "data=data[data.loc[:,\"Cell_Thrp_Kbps_DL\"]!=0]"
      ],
      "execution_count": null,
      "outputs": []
    },
    {
      "cell_type": "code",
      "metadata": {
        "id": "lLjiR9d_BJx0",
        "colab_type": "code",
        "colab": {
          "base_uri": "https://localhost:8080/",
          "height": 34
        },
        "outputId": "137b21cc-dc3b-4e03-b025-4abb9ec5a756"
      },
      "source": [
        "# check max and min for create class labels\n",
        "df['Ref.L.Cell.Thrp.Kbps.DL(kbit/s)'].max() # also check for .min()"
      ],
      "execution_count": null,
      "outputs": [
        {
          "output_type": "execute_result",
          "data": {
            "text/plain": [
              "47059.1311"
            ]
          },
          "metadata": {
            "tags": []
          },
          "execution_count": 58
        }
      ]
    },
    {
      "cell_type": "code",
      "metadata": {
        "id": "3SKjPsmcFqm5",
        "colab_type": "code",
        "colab": {}
      },
      "source": [
        "# check for max and mins for create X data labels. this process more generelize the program\n",
        "\n",
        "print(data.Ref_Avg_CQI_number_.max())\n",
        "print(data.Ref_Avg_CQI_number_.min())\n",
        "\n",
        "print(data.Ref_DL_PRB_utilization_X_.max())\n",
        "print(data.Ref_DL_PRB_utilization_X_.min())\n",
        "\n",
        "print(data.L_UL_Interference_Avg_dBm_.max())\n",
        "print(data.L_UL_Interference_Avg_dBm_.min())\n",
        "\n",
        "print(data.Ref_L_RA_TA_UE_Index_All_Approx.max())\n",
        "print(data.Ref_L_RA_TA_UE_Index_All_Approx.min())\n",
        "\n",
        "print(data.Ish_L_User_Avg_number_.max())\n",
        "print(data.Ish_L_User_Avg_number_.min())"
      ],
      "execution_count": null,
      "outputs": []
    },
    {
      "cell_type": "code",
      "metadata": {
        "id": "dYuOAUtYFr47",
        "colab_type": "code",
        "colab": {
          "base_uri": "https://localhost:8080/",
          "height": 54
        },
        "outputId": "a156510d-7b4f-4cfa-b2a2-cb8b81655faf"
      },
      "source": [
        "# categorize the X and Y data sets\n",
        "\n",
        "data['CellT_category']=pd.cut(data['Cell_Thrp_Kbps_DL'], bins=np.arange(-10000, 60000, 12500),labels=np.arange(0,60000,12500).tolist())\n",
        "data['CQI_category']=pd.cut(data['Ref_Avg_CQI_number_'], bins=np.arange(-2,20, 2),labels=np.arange(0,20,2).tolist())\n",
        "data['PRB_category']=pd.cut(data['Ref_DL_PRB_utilization_X_'], bins=np.arange(-10,110, 10),labels=np.arange(0,110,10).tolist())\n",
        "data['Interference_category']=pd.cut(data['L_UL_Interference_Avg_dBm_'], bins=np.arange(-126,6,6),labels=np.arange(-120,6,6).tolist())\n",
        "data['RATA_category']=pd.cut(data['Ref_L_RA_TA_UE_Index_All_Approx'], bins=np.arange(-10,130,10),labels=np.arange(0,130,10).tolist())\n",
        "data['User_category']=pd.cut(data['Ish_L_User_Avg_number_'], bins=np.arange(-25,350,25),labels=np.arange(0,350,25).tolist())\n",
        "\n",
        "\"\"\"\n",
        "\n",
        "data['CellT_category']=data.CellT_category.astype(int)\n",
        "data['CQI_category']=data.CellT_category.astype(int)\n",
        "data['PRB_category']=data.CellT_category.astype(int)\n",
        "#data['L_UL_Interference_Avg_dBm_']=data.L_UL_Interference_Avg_dBm_.astype(int)\n",
        "data['RATA_category']=data.CellT_category.astype(int)\n",
        "data['User_category']=data.CellT_category.astype(int)\n",
        "\"\"\"\n"
      ],
      "execution_count": null,
      "outputs": [
        {
          "output_type": "execute_result",
          "data": {
            "text/plain": [
              "\"\\n\\ndata['CellT_category']=data.CellT_category.astype(int)\\ndata['CQI_category']=data.CellT_category.astype(int)\\ndata['PRB_category']=data.CellT_category.astype(int)\\n#data['L_UL_Interference_Avg_dBm_']=data.L_UL_Interference_Avg_dBm_.astype(int)\\ndata['RATA_category']=data.CellT_category.astype(int)\\ndata['User_category']=data.CellT_category.astype(int)\\n\""
            ]
          },
          "metadata": {
            "tags": []
          },
          "execution_count": 39
        }
      ]
    },
    {
      "cell_type": "code",
      "metadata": {
        "id": "T0DYbGmAheKW",
        "colab_type": "code",
        "colab": {}
      },
      "source": [
        ""
      ],
      "execution_count": null,
      "outputs": []
    },
    {
      "cell_type": "code",
      "metadata": {
        "id": "c4qAiVmTF8t1",
        "colab_type": "code",
        "colab": {}
      },
      "source": [
        "\n",
        "\n",
        "Dset=data[['CQI_category','PRB_category','RATA_category','User_category','Interference_category','CellT_category']]\n",
        "\n"
      ],
      "execution_count": null,
      "outputs": []
    },
    {
      "cell_type": "code",
      "metadata": {
        "id": "JFdPFNY6HA3U",
        "colab_type": "code",
        "colab": {}
      },
      "source": [
        "Dset[\"CellT_category\"].unique()"
      ],
      "execution_count": null,
      "outputs": []
    },
    {
      "cell_type": "code",
      "metadata": {
        "id": "nQDWMg66Tw48",
        "colab_type": "code",
        "colab": {}
      },
      "source": [
        "#Dset.CellT_category.unique()"
      ],
      "execution_count": null,
      "outputs": []
    },
    {
      "cell_type": "code",
      "metadata": {
        "id": "xWGD9RSZLW2p",
        "colab_type": "code",
        "colab": {}
      },
      "source": [
        "# select X,Y data and Trsin test split\n",
        "X=Dset.drop('CellT_category', axis=1)\n",
        "Y=Dset['CellT_category']\n",
        "\n",
        "X_train,X_test,Y_train,Y_test=train_test_split(X,Y,test_size=0.30, random_state=0)"
      ],
      "execution_count": null,
      "outputs": []
    },
    {
      "cell_type": "code",
      "metadata": {
        "id": "OaVrO4Qqcb5w",
        "colab_type": "code",
        "colab": {}
      },
      "source": [
        ""
      ],
      "execution_count": null,
      "outputs": []
    },
    {
      "cell_type": "code",
      "metadata": {
        "id": "VlhRtb5MOXFT",
        "colab_type": "code",
        "colab": {}
      },
      "source": [
        "\n",
        "# create decission tree\n",
        "dtree=DecisionTreeClassifier(max_depth=8,criterion='gini')\n",
        "dtree.fit(X_train,Y_train)\n"
      ],
      "execution_count": null,
      "outputs": []
    },
    {
      "cell_type": "code",
      "metadata": {
        "id": "pfcrQ7bfO0pc",
        "colab_type": "code",
        "colab": {
          "base_uri": "https://localhost:8080/",
          "height": 34
        },
        "outputId": "bbdd97a7-38e8-4d8e-feb9-1080ab162982"
      },
      "source": [
        "# predict and accuracy\n",
        "\n",
        "predictions=dtree.predict(X_test)\n",
        "accuracy=accuracy_score(Y_test,predictions)\n",
        "accuracy"
      ],
      "execution_count": null,
      "outputs": [
        {
          "output_type": "execute_result",
          "data": {
            "text/plain": [
              "0.8058894230769231"
            ]
          },
          "metadata": {
            "tags": []
          },
          "execution_count": 99
        }
      ]
    },
    {
      "cell_type": "code",
      "metadata": {
        "id": "OL90Gupf7bD6",
        "colab_type": "code",
        "colab": {
          "base_uri": "https://localhost:8080/",
          "height": 87
        },
        "outputId": "1f53acc6-8ad7-4667-f6c4-53e0e9d847ce"
      },
      "source": [
        "# confusion Metrix\n",
        "from sklearn.metrics import confusion_matrix\n",
        "\n",
        "cm=confusion_matrix(Y_test,predictions)\n",
        "cm"
      ],
      "execution_count": null,
      "outputs": [
        {
          "output_type": "execute_result",
          "data": {
            "text/plain": [
              "array([[398, 178,   0,   0],\n",
              "       [ 96, 935,   2,   0],\n",
              "       [  0,  50,   4,   1],\n",
              "       [  0,   0,   0,   0]])"
            ]
          },
          "metadata": {
            "tags": []
          },
          "execution_count": 22
        }
      ]
    },
    {
      "cell_type": "code",
      "metadata": {
        "id": "J3_0ntbQ8TMz",
        "colab_type": "code",
        "colab": {}
      },
      "source": [
        "# heat map for confussion metrix\n",
        "\n",
        "%matplotlib inline\n",
        "import matplotlib.pyplot as plt\n",
        "import seaborn as sn\n",
        "plt.figure(figsize=(10,7))\n",
        "sn.heatmap(cm, annot=True)\n",
        "plt.xlabel('predict')\n",
        "plt.ylabel('input')"
      ],
      "execution_count": null,
      "outputs": []
    },
    {
      "cell_type": "code",
      "metadata": {
        "id": "TYU-vvwFPcJY",
        "colab_type": "code",
        "colab": {}
      },
      "source": [
        "# draw Decission Tree\n",
        "\n",
        "from IPython.display import Image\n",
        "from sklearn.externals.six import StringIO\n",
        "from sklearn.tree import export_graphviz\n",
        "import pydot\n",
        "\n",
        "features=list(Dset.columns[0:5])\n",
        "features"
      ],
      "execution_count": null,
      "outputs": []
    },
    {
      "cell_type": "code",
      "metadata": {
        "id": "xcQ-Q_KFTIPb",
        "colab_type": "code",
        "colab": {}
      },
      "source": [
        "# create classes\n",
        "classes=np.arange(0,60001,12500).tolist()\n",
        "classesX=[str(item) for item in classes]\n",
        "classesX"
      ],
      "execution_count": null,
      "outputs": []
    },
    {
      "cell_type": "code",
      "metadata": {
        "id": "pqrATI60QlKm",
        "colab_type": "code",
        "colab": {}
      },
      "source": [
        "\n",
        "# create dot file and png file\n",
        "\n",
        "dot_data=StringIO()\n",
        "export_graphviz(dtree, out_file=dot_data,feature_names=features,filled=True,rounded=True,class_names=classesX)\n",
        "graph=pydot.graph_from_dot_data(dot_data.getvalue())\n",
        "Image(graph[0].create_png())\n",
        "\n"
      ],
      "execution_count": null,
      "outputs": []
    },
    {
      "cell_type": "code",
      "metadata": {
        "id": "UMwb5tYlTQ7v",
        "colab_type": "code",
        "colab": {}
      },
      "source": [
        ""
      ],
      "execution_count": null,
      "outputs": []
    }
  ]
}